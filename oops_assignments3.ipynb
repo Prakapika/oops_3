{
 "cells": [
  {
   "cell_type": "code",
   "execution_count": 9,
   "id": "049fe6eb",
   "metadata": {},
   "outputs": [],
   "source": [
    "class Student:\n",
    "    def __init__(self, name, rollnumber):\n",
    "        self.name = name\n",
    "        self.rollnumber = rollnumber\n",
    "        \n",
    "    def setName(self, name):\n",
    "        self.name = name\n",
    "        \n",
    "    def getName(self):\n",
    "        print(self.name)\n",
    "        \n",
    "    def setRollNumber(self, rollnumber):\n",
    "        self.rollnumber = rollnumber\n",
    "        \n",
    "    def getRollNumber(self):\n",
    "        print(self.rollnumber)"
   ]
  },
  {
   "cell_type": "code",
   "execution_count": 20,
   "id": "7786516f",
   "metadata": {},
   "outputs": [],
   "source": [
    "s1 = Student(\"Prakash\", 102125872)\n",
    "s2 = Student(\"Prabhu\", 123344)"
   ]
  },
  {
   "cell_type": "markdown",
   "id": "dfe84336",
   "metadata": {},
   "source": [
    "s1.setName("
   ]
  },
  {
   "cell_type": "code",
   "execution_count": 21,
   "id": "fa35a912",
   "metadata": {},
   "outputs": [],
   "source": [
    "s1.setName(\"Msathes\")"
   ]
  },
  {
   "cell_type": "code",
   "execution_count": 22,
   "id": "7f0a7c2d",
   "metadata": {},
   "outputs": [
    {
     "name": "stdout",
     "output_type": "stream",
     "text": [
      "Msathes\n"
     ]
    }
   ],
   "source": [
    "s1.getName()"
   ]
  },
  {
   "cell_type": "code",
   "execution_count": 23,
   "id": "8476bafc",
   "metadata": {},
   "outputs": [],
   "source": [
    "s1.setRollNumber(10211111)"
   ]
  },
  {
   "cell_type": "code",
   "execution_count": 24,
   "id": "b6a8e7c8",
   "metadata": {},
   "outputs": [
    {
     "name": "stdout",
     "output_type": "stream",
     "text": [
      "10211111\n"
     ]
    }
   ],
   "source": [
    "s1.getRollNumber()"
   ]
  },
  {
   "cell_type": "code",
   "execution_count": 26,
   "id": "c61cb622",
   "metadata": {},
   "outputs": [
    {
     "name": "stdout",
     "output_type": "stream",
     "text": [
      "Prabhu\n"
     ]
    }
   ],
   "source": [
    "s2.getName()"
   ]
  },
  {
   "cell_type": "markdown",
   "id": "706ad57c",
   "metadata": {},
   "source": []
  }
 ],
 "metadata": {
  "kernelspec": {
   "display_name": "Python 3 (ipykernel)",
   "language": "python",
   "name": "python3"
  },
  "language_info": {
   "codemirror_mode": {
    "name": "ipython",
    "version": 3
   },
   "file_extension": ".py",
   "mimetype": "text/x-python",
   "name": "python",
   "nbconvert_exporter": "python",
   "pygments_lexer": "ipython3",
   "version": "3.10.6"
  }
 },
 "nbformat": 4,
 "nbformat_minor": 5
}
